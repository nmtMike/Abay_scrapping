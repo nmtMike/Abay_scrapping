{
 "cells": [
  {
   "cell_type": "code",
   "execution_count": 90,
   "metadata": {},
   "outputs": [],
   "source": [
    "from selenium import webdriver\n",
    "from selenium.webdriver.chrome.service import Service\n",
    "from webdriver_manager.chrome import ChromeDriverManager\n",
    "from selenium.webdriver.common.by import By\n",
    "from selenium.webdriver.support.ui import Select\n",
    "from datetime import date\n",
    "from datetime import datetime\n",
    "import os\n",
    "\n",
    "import pandas as pd\n",
    "import time\n",
    "from tqdm import tqdm\n"
   ]
  },
  {
   "cell_type": "code",
   "execution_count": 71,
   "metadata": {},
   "outputs": [],
   "source": [
    "driver = webdriver.Chrome(service=Service(ChromeDriverManager().install()))\n",
    "abay_station_form = {'SGN':'TP Hồ Chí Minh (SGN)', 'HAN':'Hà Nội (HAN)', 'DAD':'Đà Nẵng (DAD)', 'UIH':'Quy Nhơn (UIH)', 'PQC':'Phú Quốc (PQC)'}\n",
    "driver.get('https://www.abay.vn')"
   ]
  },
  {
   "cell_type": "code",
   "execution_count": 102,
   "metadata": {},
   "outputs": [
    {
     "name": "stdout",
     "output_type": "stream",
     "text": [
      "\n"
     ]
    }
   ],
   "source": [
    "\n",
    "\n",
    "\n",
    "# choose the route\n",
    "driver.execute_script(f'''document.getElementById(\"cphMain_ctl00_usrSearchFormDV2_txtFrom\").setAttribute('value', '{abay_station_form['UIH']}');''')\n",
    "driver.execute_script(f'''document.getElementById(\"cphMain_ctl00_usrSearchFormDV2_txtTo\").setAttribute('value', '{abay_station_form['SGN']}');''')\n",
    "\n",
    "# select the date\n",
    "dep_day = Select(driver.find_element(By.XPATH, '//*[@id=\"cphMain_ctl00_usrSearchFormDV2_cboDepartureDay\"]'))\n",
    "dep_day.select_by_value('23')\n",
    "\n",
    "dep_month = Select(driver.find_element(By.XPATH, '//*[@id=\"cphMain_ctl00_usrSearchFormDV2_cboDepartureMonth\"]'))\n",
    "dep_month.select_by_value('11/2022')\n",
    "\n",
    "search_button = driver.find_element(By.XPATH, '//*[@id=\"cphMain_ctl00_usrSearchFormDV2_btnSearch\"]')\n",
    "search_button.click()"
   ]
  },
  {
   "cell_type": "code",
   "execution_count": 104,
   "metadata": {},
   "outputs": [],
   "source": [
    "driver.get('https://www.abay.vn')\n",
    "\n",
    "# choose the route\n",
    "driver.execute_script(f'''document.getElementById(\"cphMain_ctl00_usrSearchFormDV2_txtFrom\").setAttribute('value', '{abay_station_form['SGN']}');''')\n",
    "driver.execute_script(f'''document.getElementById(\"cphMain_ctl00_usrSearchFormDV2_txtTo\").setAttribute('value', '{abay_station_form['UIH']}');''')\n",
    "\n",
    "# select the date\n",
    "dep_day = Select(driver.find_element(By.XPATH, '//*[@id=\"cphMain_ctl00_usrSearchFormDV2_cboDepartureDay\"]'))\n",
    "dep_day.select_by_value('23')\n",
    "\n",
    "dep_month = Select(driver.find_element(By.XPATH, '//*[@id=\"cphMain_ctl00_usrSearchFormDV2_cboDepartureMonth\"]'))\n",
    "dep_month.select_by_value('11/2022')\n",
    "\n",
    "search_button = driver.find_element(By.XPATH, '//*[@id=\"cphMain_ctl00_usrSearchFormDV2_btnSearch\"]')\n",
    "search_button.click()"
   ]
  },
  {
   "cell_type": "code",
   "execution_count": null,
   "metadata": {},
   "outputs": [],
   "source": [
    "abay_routes = {'SGN':'Tp_Ho_Chi_Minh', 'HAN':'Ha_Noi', 'DAD':'Da_Nang', 'UIH':'Quy_Nhon', 'PQC':'Phu_Quoc'}\n",
    "\n",
    "\n",
    "\n",
    "def abay_scrapping(ngay, thang, nam, ten, location):\n",
    "    driver.get('https://www.abay.vn')\n",
    "    time.sleep(1)\n",
    "    \n",
    "    \n",
    "    flights_table = driver.find_element(By.XPATH, '//table[@class=\"f-result\"]')\n",
    "    flight_rows = flights_table.find_elements(By.XPATH, '//tr[@class=\"i-result\"]')\n",
    "\n",
    "    f_name = []\n",
    "    f_time = []\n",
    "    f_baggage_meal = []\n",
    "    f_price = []\n",
    "    final_baggage_meal = []\n",
    "\n",
    "    for row in flight_rows:\n",
    "        baggage_meal = []\n",
    "        f_name.append(row.find_element(By.XPATH, './td[2]').text)\n",
    "        f_time.append(row.find_element(By.XPATH, './td[3]').text)\n",
    "        f_baggage_meal.append(row.find_element(By.XPATH, './td[4]').find_elements(By.TAG_NAME, 'img'))\n",
    "        f_price.append(row.find_element(By.XPATH, './td[5]').text)\n",
    "\n",
    "    for bag_meal in f_baggage_meal:\n",
    "        tmp_str = ''\n",
    "        for element in bag_meal:\n",
    "            tmp_str += '-' + element.get_attribute('src').split('/')[-1]\n",
    "        final_baggage_meal.append(tmp_str)\n",
    "\n",
    "    f_date = [f'{nam}-{thang}-{ngay}'] * len(f_name)\n",
    "\n",
    "    df = pd.DataFrame({'name': f_name, 'time': f_time, 'baggage_meal': final_baggage_meal, 'price': f_price, 'date' : f_date})\n",
    "    df['price'] = df['price'].str[:-1]\n",
    "\n",
    "    df['bag'] = df['baggage_meal'].str.contains('hanhly')*1\n",
    "    df['meal'] = df['baggage_meal'].str.contains('suatan')*1\n",
    "    column_order = ['name', 'time', 'bag', 'meal', 'price', 'date']\n",
    "    df = df.reindex(columns=column_order)\n",
    "    \n",
    "    \n",
    "    if ngay < 10:\n",
    "        ngay = '0' + str(ngay)\n",
    "    if thang < 10:\n",
    "        thang = '0' + str(thang)\n",
    "\n",
    "    csv_path = str(location) + r'\\price' + str(ten) + str(nam) + str(thang) + str(ngay) + '.csv'\n",
    "    df.to_csv(csv_path, index=False)"
   ]
  }
 ],
 "metadata": {
  "kernelspec": {
   "display_name": "Python 3.9.12 ('VTA_RM')",
   "language": "python",
   "name": "python3"
  },
  "language_info": {
   "codemirror_mode": {
    "name": "ipython",
    "version": 3
   },
   "file_extension": ".py",
   "mimetype": "text/x-python",
   "name": "python",
   "nbconvert_exporter": "python",
   "pygments_lexer": "ipython3",
   "version": "3.9.12"
  },
  "orig_nbformat": 4,
  "vscode": {
   "interpreter": {
    "hash": "4b9e384aec62ae57b5f76b26318facd26f7d8e2315f3809fc741dc47f714fdba"
   }
  }
 },
 "nbformat": 4,
 "nbformat_minor": 2
}
